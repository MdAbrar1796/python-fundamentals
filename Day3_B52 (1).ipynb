{
 "cells": [
  {
   "cell_type": "code",
   "execution_count": 1,
   "id": "3403924c",
   "metadata": {},
   "outputs": [
    {
     "name": "stdout",
     "output_type": "stream",
     "text": [
      "rajesh robin\n"
     ]
    }
   ],
   "source": [
    "fullname = 'rajesh robin'\n",
    "print(fullname)"
   ]
  },
  {
   "cell_type": "code",
   "execution_count": 2,
   "id": "10f46850",
   "metadata": {},
   "outputs": [
    {
     "name": "stdout",
     "output_type": "stream",
     "text": [
      "Rajesh Robin\n"
     ]
    }
   ],
   "source": [
    "print(fullname.title())"
   ]
  },
  {
   "cell_type": "code",
   "execution_count": null,
   "id": "2c551e15",
   "metadata": {},
   "outputs": [],
   "source": [
    "#required : i want to have the fullname in capitals."
   ]
  },
  {
   "cell_type": "code",
   "execution_count": 3,
   "id": "6d6a8c20",
   "metadata": {},
   "outputs": [
    {
     "name": "stdout",
     "output_type": "stream",
     "text": [
      "RAJESH ROBIN\n"
     ]
    }
   ],
   "source": [
    "print(fullname.upper())"
   ]
  },
  {
   "cell_type": "code",
   "execution_count": null,
   "id": "6b90bef0",
   "metadata": {},
   "outputs": [],
   "source": [
    "#required : i want to have the fullname in small letters."
   ]
  },
  {
   "cell_type": "code",
   "execution_count": 4,
   "id": "bfe89fff",
   "metadata": {},
   "outputs": [
    {
     "name": "stdout",
     "output_type": "stream",
     "text": [
      "rajesh robin\n"
     ]
    }
   ],
   "source": [
    "print(fullname.lower())"
   ]
  },
  {
   "cell_type": "code",
   "execution_count": 5,
   "id": "02f79341",
   "metadata": {},
   "outputs": [],
   "source": [
    "firstname = 'sachin'\n",
    "lastname = 'jhadav'"
   ]
  },
  {
   "cell_type": "code",
   "execution_count": null,
   "id": "34a998a4",
   "metadata": {},
   "outputs": [],
   "source": [
    "#req : i want to get the fullname....?"
   ]
  },
  {
   "cell_type": "code",
   "execution_count": null,
   "id": "b3d73484",
   "metadata": {},
   "outputs": [],
   "source": [
    "introduction to f strings ***"
   ]
  },
  {
   "cell_type": "code",
   "execution_count": null,
   "id": "197fec91",
   "metadata": {},
   "outputs": [],
   "source": [
    "#general syntax of an f strings"
   ]
  },
  {
   "cell_type": "code",
   "execution_count": null,
   "id": "755fecf9",
   "metadata": {},
   "outputs": [],
   "source": [
    "f\"custom words, {placeholder1}  {placeholder2} ......{placeholder..n}\""
   ]
  },
  {
   "cell_type": "code",
   "execution_count": 8,
   "id": "0bdfede7",
   "metadata": {},
   "outputs": [
    {
     "name": "stdout",
     "output_type": "stream",
     "text": [
      "sachin jhadav\n"
     ]
    }
   ],
   "source": [
    "fullname = f\"{firstname} {lastname}\"\n",
    "print(fullname)"
   ]
  },
  {
   "cell_type": "code",
   "execution_count": 9,
   "id": "63ee1796",
   "metadata": {},
   "outputs": [
    {
     "name": "stdout",
     "output_type": "stream",
     "text": [
      "Sachin Jhadav\n"
     ]
    }
   ],
   "source": [
    "print(fullname.title())"
   ]
  },
  {
   "cell_type": "code",
   "execution_count": null,
   "id": "b407edef",
   "metadata": {},
   "outputs": [],
   "source": [
    "#req : to appreciate sachin"
   ]
  },
  {
   "cell_type": "code",
   "execution_count": 13,
   "id": "6ee956e4",
   "metadata": {},
   "outputs": [
    {
     "name": "stdout",
     "output_type": "stream",
     "text": [
      "keep up the good work,Sachin Jhadav\n"
     ]
    }
   ],
   "source": [
    "message = f\"keep up the good work,{fullname.title()}\"\n",
    "print(message)"
   ]
  },
  {
   "cell_type": "code",
   "execution_count": null,
   "id": "6c8cac3a",
   "metadata": {},
   "outputs": [],
   "source": []
  },
  {
   "cell_type": "code",
   "execution_count": null,
   "id": "ce6676d3",
   "metadata": {},
   "outputs": [],
   "source": [
    "adding whitespaces to string :"
   ]
  },
  {
   "cell_type": "code",
   "execution_count": null,
   "id": "e147cea4",
   "metadata": {},
   "outputs": [],
   "source": []
  },
  {
   "cell_type": "code",
   "execution_count": null,
   "id": "edcaff4b",
   "metadata": {},
   "outputs": [],
   "source": [
    "#req : survey to choose the fav prog lang."
   ]
  },
  {
   "cell_type": "code",
   "execution_count": 14,
   "id": "e7e77f44",
   "metadata": {},
   "outputs": [
    {
     "name": "stdout",
     "output_type": "stream",
     "text": [
      "favourite_language:pythoncjavac++pascal\n"
     ]
    }
   ],
   "source": [
    "print(\"favourite_language:pythoncjavac++pascal\")"
   ]
  },
  {
   "cell_type": "code",
   "execution_count": 15,
   "id": "6f932063",
   "metadata": {},
   "outputs": [
    {
     "name": "stdout",
     "output_type": "stream",
     "text": [
      "favourite_language:\n",
      "python\n",
      "c\n",
      "java\n",
      "c++\n",
      "pascal\n"
     ]
    }
   ],
   "source": [
    "print(\"favourite_language:\\npython\\nc\\njava\\nc++\\npascal\")"
   ]
  },
  {
   "cell_type": "code",
   "execution_count": null,
   "id": "daf200ca",
   "metadata": {},
   "outputs": [],
   "source": [
    "\\n ----> it is called as a new line dilimiter"
   ]
  },
  {
   "cell_type": "code",
   "execution_count": 16,
   "id": "5cdebcca",
   "metadata": {},
   "outputs": [
    {
     "name": "stdout",
     "output_type": "stream",
     "text": [
      "favorite_language:\n",
      "\tpython\n",
      "\tc\n",
      "\tjava\n",
      "\tc++\n",
      "\tpascal\n"
     ]
    }
   ],
   "source": [
    "print(\"favorite_language:\\n\\tpython\\n\\tc\\n\\tjava\\n\\tc++\\n\\tpascal\")"
   ]
  },
  {
   "cell_type": "code",
   "execution_count": null,
   "id": "2f91803a",
   "metadata": {},
   "outputs": [],
   "source": [
    "\\t ----> tab delimiter"
   ]
  },
  {
   "cell_type": "code",
   "execution_count": null,
   "id": "41ba6dcf",
   "metadata": {},
   "outputs": [],
   "source": [
    "Removing whitespace from strings:"
   ]
  },
  {
   "cell_type": "code",
   "execution_count": null,
   "id": "cea08756",
   "metadata": {},
   "outputs": [],
   "source": []
  },
  {
   "cell_type": "code",
   "execution_count": 17,
   "id": "e52f447a",
   "metadata": {},
   "outputs": [
    {
     "name": "stdout",
     "output_type": "stream",
     "text": [
      "seetharam\n"
     ]
    }
   ],
   "source": [
    "name = 'seetharam'\n",
    "print(name)"
   ]
  },
  {
   "cell_type": "code",
   "execution_count": 18,
   "id": "047c8737",
   "metadata": {},
   "outputs": [
    {
     "name": "stdout",
     "output_type": "stream",
     "text": [
      "   seetharam\n"
     ]
    }
   ],
   "source": [
    "name1 = '    seetharam'   # Left side\n",
    "print(name1)"
   ]
  },
  {
   "cell_type": "code",
   "execution_count": 19,
   "id": "a069f572",
   "metadata": {},
   "outputs": [
    {
     "name": "stdout",
     "output_type": "stream",
     "text": [
      "seetharam   \n"
     ]
    }
   ],
   "source": [
    "name2 = 'seetharam   '    # Right side\n",
    "print(name2)"
   ]
  },
  {
   "cell_type": "code",
   "execution_count": null,
   "id": "f344bb9a",
   "metadata": {},
   "outputs": [],
   "source": []
  },
  {
   "cell_type": "code",
   "execution_count": 20,
   "id": "49d18dff",
   "metadata": {},
   "outputs": [
    {
     "name": "stdout",
     "output_type": "stream",
     "text": [
      "seetharam\n"
     ]
    }
   ],
   "source": [
    "print(name1.lstrip())   # only left check"
   ]
  },
  {
   "cell_type": "code",
   "execution_count": 21,
   "id": "5cbbf96c",
   "metadata": {},
   "outputs": [
    {
     "name": "stdout",
     "output_type": "stream",
     "text": [
      "seetharam\n"
     ]
    }
   ],
   "source": [
    "print(name2.rstrip())   # only right check"
   ]
  },
  {
   "cell_type": "code",
   "execution_count": 24,
   "id": "bb522688",
   "metadata": {},
   "outputs": [
    {
     "name": "stdout",
     "output_type": "stream",
     "text": [
      "  naveen  \n"
     ]
    }
   ],
   "source": [
    "name3 = '  naveen  '\n",
    "print(name3)"
   ]
  },
  {
   "cell_type": "code",
   "execution_count": 25,
   "id": "8ba408b1",
   "metadata": {},
   "outputs": [
    {
     "name": "stdout",
     "output_type": "stream",
     "text": [
      "naveen\n"
     ]
    }
   ],
   "source": [
    "print(name3.strip())      # check on both side and then eliminate the gap..."
   ]
  },
  {
   "cell_type": "code",
   "execution_count": null,
   "id": "71c65262",
   "metadata": {},
   "outputs": [],
   "source": []
  },
  {
   "cell_type": "code",
   "execution_count": null,
   "id": "eae70556",
   "metadata": {},
   "outputs": [],
   "source": []
  },
  {
   "cell_type": "code",
   "execution_count": null,
   "id": "cc951118",
   "metadata": {},
   "outputs": [],
   "source": []
  },
  {
   "cell_type": "code",
   "execution_count": null,
   "id": "9e05a0c6",
   "metadata": {},
   "outputs": [],
   "source": []
  },
  {
   "cell_type": "code",
   "execution_count": null,
   "id": "bba707ab",
   "metadata": {},
   "outputs": [],
   "source": []
  }
 ],
 "metadata": {
  "kernelspec": {
   "display_name": "Python 3",
   "language": "python",
   "name": "python3"
  },
  "language_info": {
   "codemirror_mode": {
    "name": "ipython",
    "version": 3
   },
   "file_extension": ".py",
   "mimetype": "text/x-python",
   "name": "python",
   "nbconvert_exporter": "python",
   "pygments_lexer": "ipython3",
   "version": "3.8.8"
  }
 },
 "nbformat": 4,
 "nbformat_minor": 5
}

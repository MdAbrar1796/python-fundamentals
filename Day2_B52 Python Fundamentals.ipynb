{
 "cells": [
  {
   "cell_type": "code",
   "execution_count": 2,
   "id": "268c0e84",
   "metadata": {},
   "outputs": [
    {
     "name": "stdout",
     "output_type": "stream",
     "text": [
      "8\n"
     ]
    }
   ],
   "source": [
    "x = 5\n",
    "y = 3\n",
    "z=x+y\n",
    "print(z)"
   ]
  },
  {
   "cell_type": "code",
   "execution_count": null,
   "id": "431cbde0",
   "metadata": {},
   "outputs": [],
   "source": [
    "Rules for declaring the varaible in python:"
   ]
  },
  {
   "cell_type": "code",
   "execution_count": null,
   "id": "02144d86",
   "metadata": {},
   "outputs": [],
   "source": [
    "Rule no 1 : No name space while declaring the varaible name."
   ]
  },
  {
   "cell_type": "code",
   "execution_count": 3,
   "id": "be66942c",
   "metadata": {},
   "outputs": [
    {
     "ename": "SyntaxError",
     "evalue": "invalid syntax (<ipython-input-3-e80644275157>, line 1)",
     "output_type": "error",
     "traceback": [
      "\u001b[1;36m  File \u001b[1;32m\"<ipython-input-3-e80644275157>\"\u001b[1;36m, line \u001b[1;32m1\u001b[0m\n\u001b[1;33m    first name = 'Abrar'\u001b[0m\n\u001b[1;37m          ^\u001b[0m\n\u001b[1;31mSyntaxError\u001b[0m\u001b[1;31m:\u001b[0m invalid syntax\n"
     ]
    }
   ],
   "source": [
    "first name = 'Abrar'\n",
    "print(first name)"
   ]
  },
  {
   "cell_type": "code",
   "execution_count": 4,
   "id": "307413e0",
   "metadata": {},
   "outputs": [
    {
     "name": "stdout",
     "output_type": "stream",
     "text": [
      "Abrar\n"
     ]
    }
   ],
   "source": [
    "firstname = 'Abrar'\n",
    "print(firstname)"
   ]
  },
  {
   "cell_type": "code",
   "execution_count": null,
   "id": "3424c7dc",
   "metadata": {},
   "outputs": [],
   "source": []
  },
  {
   "cell_type": "code",
   "execution_count": null,
   "id": "e0e6c8af",
   "metadata": {},
   "outputs": [],
   "source": [
    "Rule no 2 : A varaible name should not start with a number.**"
   ]
  },
  {
   "cell_type": "code",
   "execution_count": 5,
   "id": "00d679f2",
   "metadata": {},
   "outputs": [
    {
     "ename": "SyntaxError",
     "evalue": "invalid syntax (<ipython-input-5-7b83879ef60d>, line 1)",
     "output_type": "error",
     "traceback": [
      "\u001b[1;36m  File \u001b[1;32m\"<ipython-input-5-7b83879ef60d>\"\u001b[1;36m, line \u001b[1;32m1\u001b[0m\n\u001b[1;33m    1name = 'naveen'\u001b[0m\n\u001b[1;37m     ^\u001b[0m\n\u001b[1;31mSyntaxError\u001b[0m\u001b[1;31m:\u001b[0m invalid syntax\n"
     ]
    }
   ],
   "source": [
    "1name = 'naveen'\n",
    "print(1name)"
   ]
  },
  {
   "cell_type": "code",
   "execution_count": 6,
   "id": "d40d1f13",
   "metadata": {},
   "outputs": [
    {
     "name": "stdout",
     "output_type": "stream",
     "text": [
      "naveen\n"
     ]
    }
   ],
   "source": [
    "name1 = 'naveen'\n",
    "print(name1)"
   ]
  },
  {
   "cell_type": "code",
   "execution_count": null,
   "id": "2e30b6b4",
   "metadata": {},
   "outputs": [],
   "source": []
  },
  {
   "cell_type": "code",
   "execution_count": null,
   "id": "6a827998",
   "metadata": {},
   "outputs": [],
   "source": [
    "Rule no 3 : A varaible name should not contain any special character."
   ]
  },
  {
   "cell_type": "code",
   "execution_count": null,
   "id": "dad29eaf",
   "metadata": {},
   "outputs": [],
   "source": [
    "@$%&----->we should not use them in between a varaible ---->"
   ]
  },
  {
   "cell_type": "code",
   "execution_count": 7,
   "id": "b3709f02",
   "metadata": {},
   "outputs": [
    {
     "ename": "SyntaxError",
     "evalue": "invalid syntax (<ipython-input-7-f2e501ae5ae5>, line 1)",
     "output_type": "error",
     "traceback": [
      "\u001b[1;36m  File \u001b[1;32m\"<ipython-input-7-f2e501ae5ae5>\"\u001b[1;36m, line \u001b[1;32m1\u001b[0m\n\u001b[1;33m    name@ = 'john'\u001b[0m\n\u001b[1;37m          ^\u001b[0m\n\u001b[1;31mSyntaxError\u001b[0m\u001b[1;31m:\u001b[0m invalid syntax\n"
     ]
    }
   ],
   "source": [
    "name@ = 'john'\n",
    "print(name@)"
   ]
  },
  {
   "cell_type": "code",
   "execution_count": null,
   "id": "ddf53e22",
   "metadata": {},
   "outputs": [],
   "source": [
    "introduction to datatypes in python:\n",
    "    1.String ----> Str\n",
    "    2.Numbers ----> integers(int) & floats(decimals)\n",
    "    3.List ----> List\n",
    "    4.tuple ----> tuple\n",
    "    5.Dictionaries ---->dict"
   ]
  },
  {
   "cell_type": "code",
   "execution_count": null,
   "id": "7fca1f7f",
   "metadata": {},
   "outputs": [],
   "source": [
    "Classification of datatypes :\n",
    "    1.mutable datatype ----> we can be able to change or edit the data(flexible)\n",
    "    2.immutable datatype ----> we will not be able to change or edit the data(fixed)"
   ]
  },
  {
   "cell_type": "code",
   "execution_count": null,
   "id": "bd49ddfa",
   "metadata": {},
   "outputs": [],
   "source": [
    "introduction to string datatype :\n",
    "    Defination : A string is a series of characters enclosed in quotes\n",
    "    classification : It is classified as an immutable  datatype.\n",
    "        \n",
    "        how to declare a string ----> 3 possible ways\n",
    "        1. single quote\n",
    "        2. double quotes\n",
    "        3. triple quotes"
   ]
  },
  {
   "cell_type": "code",
   "execution_count": 8,
   "id": "417dab54",
   "metadata": {},
   "outputs": [
    {
     "name": "stdout",
     "output_type": "stream",
     "text": [
      "kumar\n"
     ]
    }
   ],
   "source": [
    "name = 'kumar'     # single quote\n",
    "print(name)"
   ]
  },
  {
   "cell_type": "code",
   "execution_count": 9,
   "id": "7ec29e63",
   "metadata": {},
   "outputs": [
    {
     "name": "stdout",
     "output_type": "stream",
     "text": [
      "hameed\n"
     ]
    }
   ],
   "source": [
    "name2 = \"hameed\"    # double quotes\n",
    "print(name2)"
   ]
  },
  {
   "cell_type": "code",
   "execution_count": 10,
   "id": "6ef1ccb7",
   "metadata": {},
   "outputs": [
    {
     "name": "stdout",
     "output_type": "stream",
     "text": [
      "keerthi\n"
     ]
    }
   ],
   "source": [
    "name3 = '''keerthi'''    # triple quotes\n",
    "print(name3)"
   ]
  },
  {
   "cell_type": "code",
   "execution_count": 11,
   "id": "81a9af6a",
   "metadata": {},
   "outputs": [],
   "source": [
    "# is used for commenting the lines in the python"
   ]
  },
  {
   "cell_type": "code",
   "execution_count": null,
   "id": "9987d2f3",
   "metadata": {},
   "outputs": [],
   "source": [
    "introduction to string methods :"
   ]
  },
  {
   "cell_type": "code",
   "execution_count": null,
   "id": "80acc260",
   "metadata": {},
   "outputs": [],
   "source": [
    "methods are builtin programs that are readily available to use in python."
   ]
  },
  {
   "cell_type": "code",
   "execution_count": 12,
   "id": "f8b532ee",
   "metadata": {},
   "outputs": [
    {
     "data": {
      "text/plain": [
       "str"
      ]
     },
     "execution_count": 12,
     "metadata": {},
     "output_type": "execute_result"
    }
   ],
   "source": [
    "type(name)"
   ]
  },
  {
   "cell_type": "code",
   "execution_count": 13,
   "id": "dec60d68",
   "metadata": {},
   "outputs": [
    {
     "data": {
      "text/plain": [
       "str"
      ]
     },
     "execution_count": 13,
     "metadata": {},
     "output_type": "execute_result"
    }
   ],
   "source": [
    "type(name2)"
   ]
  },
  {
   "cell_type": "code",
   "execution_count": 14,
   "id": "31fecb71",
   "metadata": {},
   "outputs": [
    {
     "data": {
      "text/plain": [
       "str"
      ]
     },
     "execution_count": 14,
     "metadata": {},
     "output_type": "execute_result"
    }
   ],
   "source": [
    "type(name3)"
   ]
  },
  {
   "cell_type": "code",
   "execution_count": null,
   "id": "828d6126",
   "metadata": {},
   "outputs": [],
   "source": [
    "Type method will be helping us to validate the datatype"
   ]
  },
  {
   "cell_type": "code",
   "execution_count": null,
   "id": "a09c8b07",
   "metadata": {},
   "outputs": [],
   "source": [
    "note : python is a case sensitive language."
   ]
  },
  {
   "cell_type": "code",
   "execution_count": null,
   "id": "dede323e",
   "metadata": {},
   "outputs": [],
   "source": []
  }
 ],
 "metadata": {
  "kernelspec": {
   "display_name": "Python 3",
   "language": "python",
   "name": "python3"
  },
  "language_info": {
   "codemirror_mode": {
    "name": "ipython",
    "version": 3
   },
   "file_extension": ".py",
   "mimetype": "text/x-python",
   "name": "python",
   "nbconvert_exporter": "python",
   "pygments_lexer": "ipython3",
   "version": "3.8.8"
  }
 },
 "nbformat": 4,
 "nbformat_minor": 5
}

{
 "cells": [
  {
   "cell_type": "code",
   "execution_count": null,
   "id": "1f0d36fe",
   "metadata": {},
   "outputs": [],
   "source": [
    "introduction to list datatype :"
   ]
  },
  {
   "cell_type": "code",
   "execution_count": null,
   "id": "4b421b4d",
   "metadata": {},
   "outputs": [],
   "source": [
    "defination : A list is a collection of items in a particular order.\n",
    "    \n",
    "    classification : it is classified as a mutable datatype"
   ]
  },
  {
   "cell_type": "code",
   "execution_count": null,
   "id": "13d6699a",
   "metadata": {},
   "outputs": [],
   "source": [
    "how do you declare a list -----> [ ] =====> square brackets"
   ]
  },
  {
   "cell_type": "code",
   "execution_count": null,
   "id": "19dca0b0",
   "metadata": {},
   "outputs": [],
   "source": []
  },
  {
   "cell_type": "code",
   "execution_count": 1,
   "id": "80949bb8",
   "metadata": {},
   "outputs": [],
   "source": [
    "students =['naveen','kranthi','hameed','john','farheen','swetha']"
   ]
  },
  {
   "cell_type": "code",
   "execution_count": 2,
   "id": "0e6bacd4",
   "metadata": {},
   "outputs": [
    {
     "name": "stdout",
     "output_type": "stream",
     "text": [
      "['naveen', 'kranthi', 'hameed', 'john', 'farheen', 'swetha']\n"
     ]
    }
   ],
   "source": [
    "print(students)"
   ]
  },
  {
   "cell_type": "code",
   "execution_count": null,
   "id": "d580f739",
   "metadata": {},
   "outputs": [],
   "source": []
  },
  {
   "cell_type": "code",
   "execution_count": 3,
   "id": "aa9090cf",
   "metadata": {},
   "outputs": [
    {
     "data": {
      "text/plain": [
       "list"
      ]
     },
     "execution_count": 3,
     "metadata": {},
     "output_type": "execute_result"
    }
   ],
   "source": [
    "type(students)"
   ]
  },
  {
   "cell_type": "code",
   "execution_count": null,
   "id": "d2cc7dc4",
   "metadata": {},
   "outputs": [],
   "source": []
  },
  {
   "cell_type": "code",
   "execution_count": 5,
   "id": "8057c22f",
   "metadata": {},
   "outputs": [
    {
     "name": "stdout",
     "output_type": "stream",
     "text": [
      "['naveen', 'kranthi', 'hameed', 'john', 'farheen', 'swetha']\n"
     ]
    }
   ],
   "source": [
    "print(students)"
   ]
  },
  {
   "cell_type": "code",
   "execution_count": null,
   "id": "7c8475c8",
   "metadata": {},
   "outputs": [],
   "source": []
  },
  {
   "cell_type": "code",
   "execution_count": null,
   "id": "5786126d",
   "metadata": {},
   "outputs": [],
   "source": [
    "# req : how to access the elements from the list....?"
   ]
  },
  {
   "cell_type": "code",
   "execution_count": null,
   "id": "015a50c6",
   "metadata": {},
   "outputs": [],
   "source": []
  },
  {
   "cell_type": "code",
   "execution_count": null,
   "id": "89170e5c",
   "metadata": {},
   "outputs": [],
   "source": [
    "indexing : 0,1,2,3,4------"
   ]
  },
  {
   "cell_type": "code",
   "execution_count": 7,
   "id": "87feedfc",
   "metadata": {},
   "outputs": [
    {
     "name": "stdout",
     "output_type": "stream",
     "text": [
      "kranthi\n"
     ]
    }
   ],
   "source": [
    "print(students[1])"
   ]
  },
  {
   "cell_type": "code",
   "execution_count": 8,
   "id": "72238365",
   "metadata": {},
   "outputs": [
    {
     "name": "stdout",
     "output_type": "stream",
     "text": [
      "john\n"
     ]
    }
   ],
   "source": [
    "print(students[3])"
   ]
  },
  {
   "cell_type": "code",
   "execution_count": 9,
   "id": "5c33e7e6",
   "metadata": {},
   "outputs": [
    {
     "name": "stdout",
     "output_type": "stream",
     "text": [
      "John\n"
     ]
    }
   ],
   "source": [
    "print(students[3].title())"
   ]
  },
  {
   "cell_type": "code",
   "execution_count": null,
   "id": "57bba56d",
   "metadata": {},
   "outputs": [],
   "source": []
  },
  {
   "cell_type": "code",
   "execution_count": null,
   "id": "b40e07aa",
   "metadata": {},
   "outputs": [],
   "source": [
    "1. how to add new elements to the list.\n",
    "\n",
    "2. how to modify the elements in the list.\n",
    "\n",
    "3. how to delete the elements in the list."
   ]
  },
  {
   "cell_type": "code",
   "execution_count": null,
   "id": "f16c64e3",
   "metadata": {},
   "outputs": [],
   "source": []
  },
  {
   "cell_type": "code",
   "execution_count": 10,
   "id": "3303e818",
   "metadata": {},
   "outputs": [
    {
     "name": "stdout",
     "output_type": "stream",
     "text": [
      "['naveen', 'kranthi', 'hameed', 'john', 'farheen', 'swetha']\n"
     ]
    }
   ],
   "source": [
    "print(students)"
   ]
  },
  {
   "cell_type": "code",
   "execution_count": null,
   "id": "ca1d0560",
   "metadata": {},
   "outputs": [],
   "source": []
  },
  {
   "cell_type": "code",
   "execution_count": null,
   "id": "1fa0dfed",
   "metadata": {},
   "outputs": [],
   "source": [
    "1. how to modify the elements in a list?"
   ]
  },
  {
   "cell_type": "code",
   "execution_count": null,
   "id": "5bfa35c9",
   "metadata": {},
   "outputs": [],
   "source": []
  },
  {
   "cell_type": "code",
   "execution_count": null,
   "id": "77522413",
   "metadata": {},
   "outputs": [],
   "source": [
    "# i want to add rafi to the above list?"
   ]
  },
  {
   "cell_type": "code",
   "execution_count": 11,
   "id": "08af2681",
   "metadata": {},
   "outputs": [],
   "source": [
    "students.append('rafi')"
   ]
  },
  {
   "cell_type": "code",
   "execution_count": 13,
   "id": "6aa422e5",
   "metadata": {},
   "outputs": [
    {
     "name": "stdout",
     "output_type": "stream",
     "text": [
      "['naveen', 'kranthi', 'hameed', 'john', 'farheen', 'swetha', 'rafi']\n"
     ]
    }
   ],
   "source": [
    "print(students)"
   ]
  },
  {
   "cell_type": "code",
   "execution_count": null,
   "id": "5b3a0e64",
   "metadata": {},
   "outputs": [],
   "source": []
  },
  {
   "cell_type": "code",
   "execution_count": null,
   "id": "e5d0883c",
   "metadata": {},
   "outputs": [],
   "source": [
    "# i want to add suvedita to the above list?"
   ]
  },
  {
   "cell_type": "code",
   "execution_count": 15,
   "id": "0d561ba4",
   "metadata": {},
   "outputs": [],
   "source": [
    "students.append('suvedita')"
   ]
  },
  {
   "cell_type": "code",
   "execution_count": 16,
   "id": "f18aebb8",
   "metadata": {},
   "outputs": [
    {
     "name": "stdout",
     "output_type": "stream",
     "text": [
      "['naveen', 'kranthi', 'hameed', 'john', 'farheen', 'swetha', 'rafi', 'suvedita']\n"
     ]
    }
   ],
   "source": [
    "print(students)"
   ]
  },
  {
   "cell_type": "code",
   "execution_count": null,
   "id": "f33be61c",
   "metadata": {},
   "outputs": [],
   "source": []
  },
  {
   "cell_type": "code",
   "execution_count": null,
   "id": "b54befb1",
   "metadata": {},
   "outputs": [],
   "source": [
    "# req : i want to add kiran to the 2nd index?"
   ]
  },
  {
   "cell_type": "code",
   "execution_count": 17,
   "id": "04c22acb",
   "metadata": {},
   "outputs": [],
   "source": [
    "students.insert(2,'kiran')"
   ]
  },
  {
   "cell_type": "code",
   "execution_count": 18,
   "id": "677a77df",
   "metadata": {},
   "outputs": [
    {
     "name": "stdout",
     "output_type": "stream",
     "text": [
      "['naveen', 'kranthi', 'kiran', 'hameed', 'john', 'farheen', 'swetha', 'rafi', 'suvedita']\n"
     ]
    }
   ],
   "source": [
    "print(students)"
   ]
  },
  {
   "cell_type": "code",
   "execution_count": 19,
   "id": "287f4f4a",
   "metadata": {},
   "outputs": [
    {
     "name": "stdout",
     "output_type": "stream",
     "text": [
      "kiran\n"
     ]
    }
   ],
   "source": [
    "print(students[2])"
   ]
  },
  {
   "cell_type": "code",
   "execution_count": 20,
   "id": "ec500c29",
   "metadata": {},
   "outputs": [
    {
     "name": "stdout",
     "output_type": "stream",
     "text": [
      "swetha\n"
     ]
    }
   ],
   "source": [
    "print(students[6])"
   ]
  },
  {
   "cell_type": "code",
   "execution_count": 21,
   "id": "bfd30e1d",
   "metadata": {},
   "outputs": [
    {
     "name": "stdout",
     "output_type": "stream",
     "text": [
      "farheen\n"
     ]
    }
   ],
   "source": [
    "print(students[5])"
   ]
  },
  {
   "cell_type": "code",
   "execution_count": null,
   "id": "1a28b6c7",
   "metadata": {},
   "outputs": [],
   "source": []
  },
  {
   "cell_type": "code",
   "execution_count": null,
   "id": "583783cf",
   "metadata": {},
   "outputs": [],
   "source": [
    "interview questions : what is the difference between append and insert in a list? can you explain? ***"
   ]
  },
  {
   "cell_type": "code",
   "execution_count": null,
   "id": "84f3ca1c",
   "metadata": {},
   "outputs": [],
   "source": []
  },
  {
   "cell_type": "code",
   "execution_count": null,
   "id": "0dbb543d",
   "metadata": {},
   "outputs": [],
   "source": [
    "2.  how to modify the elements in a list?"
   ]
  },
  {
   "cell_type": "code",
   "execution_count": 22,
   "id": "80fd175b",
   "metadata": {},
   "outputs": [
    {
     "name": "stdout",
     "output_type": "stream",
     "text": [
      "['naveen', 'kranthi', 'kiran', 'hameed', 'john', 'farheen', 'swetha', 'rafi', 'suvedita']\n"
     ]
    }
   ],
   "source": [
    "print(students)"
   ]
  },
  {
   "cell_type": "code",
   "execution_count": null,
   "id": "1a41121b",
   "metadata": {},
   "outputs": [],
   "source": [
    "# req : i want to modify naveen name to namita?"
   ]
  },
  {
   "cell_type": "code",
   "execution_count": 23,
   "id": "627b7841",
   "metadata": {},
   "outputs": [],
   "source": [
    "students[0]= 'namita'"
   ]
  },
  {
   "cell_type": "code",
   "execution_count": 24,
   "id": "cc860754",
   "metadata": {},
   "outputs": [
    {
     "name": "stdout",
     "output_type": "stream",
     "text": [
      "['namita', 'kranthi', 'kiran', 'hameed', 'john', 'farheen', 'swetha', 'rafi', 'suvedita']\n"
     ]
    }
   ],
   "source": [
    "print(students)"
   ]
  },
  {
   "cell_type": "code",
   "execution_count": null,
   "id": "09fb79c3",
   "metadata": {},
   "outputs": [],
   "source": []
  },
  {
   "cell_type": "code",
   "execution_count": null,
   "id": "e2a35c84",
   "metadata": {},
   "outputs": [],
   "source": [
    "3 . how to delete the elements in the list?"
   ]
  },
  {
   "cell_type": "code",
   "execution_count": 25,
   "id": "e3abc976",
   "metadata": {},
   "outputs": [
    {
     "name": "stdout",
     "output_type": "stream",
     "text": [
      "['namita', 'kranthi', 'kiran', 'hameed', 'john', 'farheen', 'swetha', 'rafi', 'suvedita']\n"
     ]
    }
   ],
   "source": [
    "print(students)"
   ]
  },
  {
   "cell_type": "code",
   "execution_count": null,
   "id": "045140d8",
   "metadata": {},
   "outputs": [],
   "source": [
    "# req : i want to delete kiran name in the list----?"
   ]
  },
  {
   "cell_type": "code",
   "execution_count": 26,
   "id": "1c1a303e",
   "metadata": {},
   "outputs": [],
   "source": [
    "del students[2]"
   ]
  },
  {
   "cell_type": "code",
   "execution_count": 27,
   "id": "1e24d577",
   "metadata": {},
   "outputs": [
    {
     "name": "stdout",
     "output_type": "stream",
     "text": [
      "['namita', 'kranthi', 'hameed', 'john', 'farheen', 'swetha', 'rafi', 'suvedita']\n"
     ]
    }
   ],
   "source": [
    "print(students)"
   ]
  },
  {
   "cell_type": "code",
   "execution_count": null,
   "id": "541af7e7",
   "metadata": {},
   "outputs": [],
   "source": []
  },
  {
   "cell_type": "code",
   "execution_count": null,
   "id": "8cfa3701",
   "metadata": {},
   "outputs": [],
   "source": []
  },
  {
   "cell_type": "code",
   "execution_count": null,
   "id": "292ae655",
   "metadata": {},
   "outputs": [],
   "source": []
  }
 ],
 "metadata": {
  "kernelspec": {
   "display_name": "Python 3",
   "language": "python",
   "name": "python3"
  },
  "language_info": {
   "codemirror_mode": {
    "name": "ipython",
    "version": 3
   },
   "file_extension": ".py",
   "mimetype": "text/x-python",
   "name": "python",
   "nbconvert_exporter": "python",
   "pygments_lexer": "ipython3",
   "version": "3.8.8"
  }
 },
 "nbformat": 4,
 "nbformat_minor": 5
}

{
 "cells": [
  {
   "cell_type": "code",
   "execution_count": null,
   "id": "645091fe",
   "metadata": {},
   "outputs": [],
   "source": [
    "introduction to looping statements: ***"
   ]
  },
  {
   "cell_type": "code",
   "execution_count": 1,
   "id": "e171fea6",
   "metadata": {},
   "outputs": [],
   "source": [
    "students = ['kranthi','shreya','pooja','sajid','aliya','namitha']"
   ]
  },
  {
   "cell_type": "code",
   "execution_count": 2,
   "id": "d1221b65",
   "metadata": {},
   "outputs": [
    {
     "name": "stdout",
     "output_type": "stream",
     "text": [
      "['kranthi', 'shreya', 'pooja', 'sajid', 'aliya', 'namitha']\n"
     ]
    }
   ],
   "source": [
    "print(students)"
   ]
  },
  {
   "cell_type": "code",
   "execution_count": 3,
   "id": "8d354de4",
   "metadata": {},
   "outputs": [
    {
     "data": {
      "text/plain": [
       "list"
      ]
     },
     "execution_count": 3,
     "metadata": {},
     "output_type": "execute_result"
    }
   ],
   "source": [
    "type(students)"
   ]
  },
  {
   "cell_type": "code",
   "execution_count": null,
   "id": "a184b2d0",
   "metadata": {},
   "outputs": [],
   "source": []
  },
  {
   "cell_type": "code",
   "execution_count": null,
   "id": "6d20b479",
   "metadata": {},
   "outputs": [],
   "source": [
    "# req : i want to appreciate all the students in the list "
   ]
  },
  {
   "cell_type": "code",
   "execution_count": 4,
   "id": "4c189c5d",
   "metadata": {},
   "outputs": [
    {
     "name": "stdout",
     "output_type": "stream",
     "text": [
      "keep up the good work,kranthi\n"
     ]
    }
   ],
   "source": [
    "print(f\"keep up the good work,{students[0]}\")"
   ]
  },
  {
   "cell_type": "code",
   "execution_count": 5,
   "id": "82f31341",
   "metadata": {},
   "outputs": [
    {
     "name": "stdout",
     "output_type": "stream",
     "text": [
      "keep up the good work,Kranthi\n"
     ]
    }
   ],
   "source": [
    "print(f\"keep up the good work,{students[0].title()}\")"
   ]
  },
  {
   "cell_type": "code",
   "execution_count": 7,
   "id": "b4bff6a4",
   "metadata": {},
   "outputs": [
    {
     "name": "stdout",
     "output_type": "stream",
     "text": [
      "keep up the good work,Shreya\n"
     ]
    }
   ],
   "source": [
    "print(f\"keep up the good work,{students[1].title()}\")"
   ]
  },
  {
   "cell_type": "code",
   "execution_count": 8,
   "id": "525c7b47",
   "metadata": {},
   "outputs": [
    {
     "name": "stdout",
     "output_type": "stream",
     "text": [
      "keep up the good work,Pooja\n"
     ]
    }
   ],
   "source": [
    "print(f\"keep up the good work,{students[2].title()}\")"
   ]
  },
  {
   "cell_type": "code",
   "execution_count": null,
   "id": "08ee3a78",
   "metadata": {},
   "outputs": [],
   "source": []
  },
  {
   "cell_type": "code",
   "execution_count": null,
   "id": "06fed3ac",
   "metadata": {},
   "outputs": [],
   "source": [
    "# general syntax of a list datatype :"
   ]
  },
  {
   "cell_type": "code",
   "execution_count": null,
   "id": "65625974",
   "metadata": {},
   "outputs": [],
   "source": [
    "for tempvar in mainvar:\n",
    "    print(tempvar)\n"
   ]
  },
  {
   "cell_type": "code",
   "execution_count": 10,
   "id": "33d7032c",
   "metadata": {},
   "outputs": [
    {
     "name": "stdout",
     "output_type": "stream",
     "text": [
      "keep up the good work, Kranthi\n",
      "keep up the good work, Shreya\n",
      "keep up the good work, Pooja\n",
      "keep up the good work, Sajid\n",
      "keep up the good work, Aliya\n",
      "keep up the good work, Namitha\n"
     ]
    }
   ],
   "source": [
    "for x in students:\n",
    "    print(f\"keep up the good work, {x.title()}\")"
   ]
  },
  {
   "cell_type": "code",
   "execution_count": 12,
   "id": "82cd5fe4",
   "metadata": {},
   "outputs": [
    {
     "name": "stdout",
     "output_type": "stream",
     "text": [
      "keep up the good work, Kranthi\n",
      "keep up the good work, Shreya\n",
      "keep up the good work, Pooja\n",
      "keep up the good work, Sajid\n",
      "keep up the good work, Aliya\n",
      "keep up the good work, Namitha\n"
     ]
    }
   ],
   "source": [
    "for ironman in students :\n",
    "    print(f\"keep up the good work, {ironman.title()}\")   # indentation"
   ]
  },
  {
   "cell_type": "code",
   "execution_count": 13,
   "id": "a07c17c0",
   "metadata": {},
   "outputs": [
    {
     "ename": "IndentationError",
     "evalue": "expected an indented block (<ipython-input-13-7a68ea13cb56>, line 2)",
     "output_type": "error",
     "traceback": [
      "\u001b[1;36m  File \u001b[1;32m\"<ipython-input-13-7a68ea13cb56>\"\u001b[1;36m, line \u001b[1;32m2\u001b[0m\n\u001b[1;33m    print(f\"keep up the good work, {ironman.title()}\")\u001b[0m\n\u001b[1;37m    ^\u001b[0m\n\u001b[1;31mIndentationError\u001b[0m\u001b[1;31m:\u001b[0m expected an indented block\n"
     ]
    }
   ],
   "source": [
    "for ironman in students :\n",
    "print(f\"keep up the good work, {ironman.title()}\")"
   ]
  },
  {
   "cell_type": "code",
   "execution_count": null,
   "id": "25111748",
   "metadata": {},
   "outputs": [],
   "source": []
  },
  {
   "cell_type": "code",
   "execution_count": 14,
   "id": "837fdadc",
   "metadata": {},
   "outputs": [
    {
     "name": "stdout",
     "output_type": "stream",
     "text": [
      "keep up the good work, Kranthi\n",
      "please do send me the practise file of today,Kranthi\n",
      "keep up the good work, Shreya\n",
      "please do send me the practise file of today,Shreya\n",
      "keep up the good work, Pooja\n",
      "please do send me the practise file of today,Pooja\n",
      "keep up the good work, Sajid\n",
      "please do send me the practise file of today,Sajid\n",
      "keep up the good work, Aliya\n",
      "please do send me the practise file of today,Aliya\n",
      "keep up the good work, Namitha\n",
      "please do send me the practise file of today,Namitha\n"
     ]
    }
   ],
   "source": [
    "for x in students :\n",
    "    print(f\"keep up the good work, {x.title()}\")\n",
    "    print(f\"please do send me the practise file of today,{x.title()}\")"
   ]
  },
  {
   "cell_type": "code",
   "execution_count": null,
   "id": "0a222410",
   "metadata": {},
   "outputs": [],
   "source": []
  },
  {
   "cell_type": "code",
   "execution_count": null,
   "id": "4fdd16cd",
   "metadata": {},
   "outputs": [],
   "source": [
    "# enhancement of the code....!"
   ]
  },
  {
   "cell_type": "code",
   "execution_count": null,
   "id": "33c59484",
   "metadata": {},
   "outputs": [],
   "source": []
  },
  {
   "cell_type": "code",
   "execution_count": 15,
   "id": "120e934a",
   "metadata": {},
   "outputs": [
    {
     "name": "stdout",
     "output_type": "stream",
     "text": [
      "keep up the good work, Kranthi\n",
      "please do send me the practise file of today,Kranthi.\n",
      "\n",
      "keep up the good work, Shreya\n",
      "please do send me the practise file of today,Shreya.\n",
      "\n",
      "keep up the good work, Pooja\n",
      "please do send me the practise file of today,Pooja.\n",
      "\n",
      "keep up the good work, Sajid\n",
      "please do send me the practise file of today,Sajid.\n",
      "\n",
      "keep up the good work, Aliya\n",
      "please do send me the practise file of today,Aliya.\n",
      "\n",
      "keep up the good work, Namitha\n",
      "please do send me the practise file of today,Namitha.\n",
      "\n"
     ]
    }
   ],
   "source": [
    "for x in students :\n",
    "    print(f\"keep up the good work, {x.title()}\")\n",
    "    print(f\"please do send me the practise file of today,{x.title()}.\\n\")"
   ]
  },
  {
   "cell_type": "code",
   "execution_count": 17,
   "id": "4ac4084f",
   "metadata": {},
   "outputs": [
    {
     "name": "stdout",
     "output_type": "stream",
     "text": [
      "keep up the good work, Kranthi\n",
      "please do send me the practise file of today,Kranthi.\n",
      "\n",
      "keep up the good work, Shreya\n",
      "please do send me the practise file of today,Shreya.\n",
      "\n",
      "keep up the good work, Pooja\n",
      "please do send me the practise file of today,Pooja.\n",
      "\n",
      "keep up the good work, Sajid\n",
      "please do send me the practise file of today,Sajid.\n",
      "\n",
      "keep up the good work, Aliya\n",
      "please do send me the practise file of today,Aliya.\n",
      "\n",
      "keep up the good work, Namitha\n",
      "please do send me the practise file of today,Namitha.\n",
      "\n",
      "Thank you all for showing the intrest to learn python\n"
     ]
    }
   ],
   "source": [
    "for x in students :\n",
    "    print(f\"keep up the good work, {x.title()}\")             # in the loop\n",
    "    print(f\"please do send me the practise file of today,{x.title()}.\\n\")\n",
    "    \n",
    "print(\"Thank you all for showing the intrest to learn python\") # out of the loop"
   ]
  },
  {
   "cell_type": "code",
   "execution_count": null,
   "id": "3334950b",
   "metadata": {},
   "outputs": [],
   "source": []
  },
  {
   "cell_type": "code",
   "execution_count": null,
   "id": "e0c57ca8",
   "metadata": {},
   "outputs": [],
   "source": []
  },
  {
   "cell_type": "code",
   "execution_count": null,
   "id": "53ad5fb4",
   "metadata": {},
   "outputs": [],
   "source": []
  }
 ],
 "metadata": {
  "kernelspec": {
   "display_name": "Python 3",
   "language": "python",
   "name": "python3"
  },
  "language_info": {
   "codemirror_mode": {
    "name": "ipython",
    "version": 3
   },
   "file_extension": ".py",
   "mimetype": "text/x-python",
   "name": "python",
   "nbconvert_exporter": "python",
   "pygments_lexer": "ipython3",
   "version": "3.8.8"
  }
 },
 "nbformat": 4,
 "nbformat_minor": 5
}

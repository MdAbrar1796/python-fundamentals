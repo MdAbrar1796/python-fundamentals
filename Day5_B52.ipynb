{
 "cells": [
  {
   "cell_type": "code",
   "execution_count": null,
   "id": "fc6b9a60",
   "metadata": {},
   "outputs": [],
   "source": [
    "Organising the list datatype :"
   ]
  },
  {
   "cell_type": "code",
   "execution_count": null,
   "id": "33d71153",
   "metadata": {},
   "outputs": [],
   "source": []
  },
  {
   "cell_type": "code",
   "execution_count": 1,
   "id": "14d2e1a7",
   "metadata": {},
   "outputs": [],
   "source": [
    "cars = ['kia','benz','audi','bmw','suzuki','maruthi']"
   ]
  },
  {
   "cell_type": "code",
   "execution_count": 2,
   "id": "460732af",
   "metadata": {},
   "outputs": [
    {
     "name": "stdout",
     "output_type": "stream",
     "text": [
      "['kia', 'benz', 'audi', 'bmw', 'suzuki', 'maruthi']\n"
     ]
    }
   ],
   "source": [
    "print(cars)"
   ]
  },
  {
   "cell_type": "code",
   "execution_count": 3,
   "id": "0b00bc08",
   "metadata": {},
   "outputs": [
    {
     "data": {
      "text/plain": [
       "list"
      ]
     },
     "execution_count": 3,
     "metadata": {},
     "output_type": "execute_result"
    }
   ],
   "source": [
    "type(cars)"
   ]
  },
  {
   "cell_type": "code",
   "execution_count": null,
   "id": "5063da57",
   "metadata": {},
   "outputs": [],
   "source": []
  },
  {
   "cell_type": "code",
   "execution_count": null,
   "id": "6faecf65",
   "metadata": {},
   "outputs": [],
   "source": [
    "# req : i want to organise the above cars list in a alphabetical order-----A-Z order"
   ]
  },
  {
   "cell_type": "code",
   "execution_count": null,
   "id": "6cd3f00f",
   "metadata": {},
   "outputs": [],
   "source": [
    " 2 possible approaches :\n",
    "        \n",
    "        1. temp approach -----> we can able to maintain the original of the list.\n",
    "        \n",
    "        2. per  approach -----> changes are fixed, cant go back to the original order."
   ]
  },
  {
   "cell_type": "code",
   "execution_count": null,
   "id": "cc419565",
   "metadata": {},
   "outputs": [],
   "source": []
  },
  {
   "cell_type": "code",
   "execution_count": 5,
   "id": "9def2676",
   "metadata": {},
   "outputs": [
    {
     "name": "stdout",
     "output_type": "stream",
     "text": [
      "['audi', 'benz', 'bmw', 'kia', 'maruthi', 'suzuki']\n"
     ]
    }
   ],
   "source": [
    "# temp approach -----> 1.    A ----> Z\n",
    "\n",
    "print(sorted(cars))"
   ]
  },
  {
   "cell_type": "code",
   "execution_count": null,
   "id": "bd620be2",
   "metadata": {},
   "outputs": [],
   "source": []
  },
  {
   "cell_type": "code",
   "execution_count": 6,
   "id": "405d864e",
   "metadata": {},
   "outputs": [
    {
     "name": "stdout",
     "output_type": "stream",
     "text": [
      "['kia', 'benz', 'audi', 'bmw', 'suzuki', 'maruthi']\n"
     ]
    }
   ],
   "source": [
    "print(cars)  # this is the original order"
   ]
  },
  {
   "cell_type": "code",
   "execution_count": null,
   "id": "f0963bae",
   "metadata": {},
   "outputs": [],
   "source": []
  },
  {
   "cell_type": "code",
   "execution_count": null,
   "id": "f4b49326",
   "metadata": {},
   "outputs": [],
   "source": [
    "benz,bmw =====> e,m"
   ]
  },
  {
   "cell_type": "code",
   "execution_count": null,
   "id": "d5c512ef",
   "metadata": {},
   "outputs": [],
   "source": []
  },
  {
   "cell_type": "code",
   "execution_count": null,
   "id": "1892471f",
   "metadata": {},
   "outputs": [],
   "source": [
    "#permanent approach :"
   ]
  },
  {
   "cell_type": "code",
   "execution_count": 7,
   "id": "8af1d32c",
   "metadata": {},
   "outputs": [],
   "source": [
    "cars.sort()"
   ]
  },
  {
   "cell_type": "code",
   "execution_count": 8,
   "id": "6dc6ac50",
   "metadata": {},
   "outputs": [
    {
     "name": "stdout",
     "output_type": "stream",
     "text": [
      "['audi', 'benz', 'bmw', 'kia', 'maruthi', 'suzuki']\n"
     ]
    }
   ],
   "source": [
    "print(cars)"
   ]
  },
  {
   "cell_type": "code",
   "execution_count": 13,
   "id": "29315dd8",
   "metadata": {},
   "outputs": [
    {
     "name": "stdout",
     "output_type": "stream",
     "text": [
      "['audi', 'benz', 'bmw', 'kia', 'maruthi', 'suzuki']\n"
     ]
    }
   ],
   "source": [
    "print(cars)"
   ]
  },
  {
   "cell_type": "code",
   "execution_count": null,
   "id": "16f0d287",
   "metadata": {},
   "outputs": [],
   "source": []
  },
  {
   "cell_type": "code",
   "execution_count": null,
   "id": "7e799dba",
   "metadata": {},
   "outputs": [],
   "source": [
    "# req : how to print the list in a reverse order-----? ****"
   ]
  },
  {
   "cell_type": "code",
   "execution_count": 14,
   "id": "af09db60",
   "metadata": {},
   "outputs": [
    {
     "name": "stdout",
     "output_type": "stream",
     "text": [
      "['audi', 'benz', 'bmw', 'kia', 'maruthi', 'suzuki']\n"
     ]
    }
   ],
   "source": [
    "print(cars)"
   ]
  },
  {
   "cell_type": "code",
   "execution_count": 15,
   "id": "8a831504",
   "metadata": {},
   "outputs": [],
   "source": [
    "cars.reverse()    # the change are applied permanent"
   ]
  },
  {
   "cell_type": "code",
   "execution_count": 16,
   "id": "35620cad",
   "metadata": {},
   "outputs": [
    {
     "name": "stdout",
     "output_type": "stream",
     "text": [
      "['suzuki', 'maruthi', 'kia', 'bmw', 'benz', 'audi']\n"
     ]
    }
   ],
   "source": [
    "print(cars)"
   ]
  },
  {
   "cell_type": "code",
   "execution_count": 17,
   "id": "c8c94b4f",
   "metadata": {},
   "outputs": [
    {
     "name": "stdout",
     "output_type": "stream",
     "text": [
      "['suzuki', 'maruthi', 'kia', 'bmw', 'benz', 'audi']\n"
     ]
    }
   ],
   "source": [
    "print(cars)"
   ]
  },
  {
   "cell_type": "code",
   "execution_count": null,
   "id": "6ebfbaf0",
   "metadata": {},
   "outputs": [],
   "source": []
  },
  {
   "cell_type": "code",
   "execution_count": 18,
   "id": "fa3c8e6a",
   "metadata": {},
   "outputs": [
    {
     "name": "stdout",
     "output_type": "stream",
     "text": [
      "['suzuki', 'maruthi', 'kia', 'bmw', 'benz', 'audi']\n"
     ]
    }
   ],
   "source": [
    "print(cars)"
   ]
  },
  {
   "cell_type": "code",
   "execution_count": null,
   "id": "68b0850c",
   "metadata": {},
   "outputs": [],
   "source": []
  },
  {
   "cell_type": "code",
   "execution_count": null,
   "id": "29288b15",
   "metadata": {},
   "outputs": [],
   "source": [
    "# req : to count the number of elements  in the list ---?"
   ]
  },
  {
   "cell_type": "code",
   "execution_count": 19,
   "id": "50053994",
   "metadata": {},
   "outputs": [
    {
     "data": {
      "text/plain": [
       "6"
      ]
     },
     "execution_count": 19,
     "metadata": {},
     "output_type": "execute_result"
    }
   ],
   "source": [
    "len(cars)"
   ]
  },
  {
   "cell_type": "code",
   "execution_count": null,
   "id": "b2b6cf1c",
   "metadata": {},
   "outputs": [],
   "source": []
  },
  {
   "cell_type": "code",
   "execution_count": null,
   "id": "be310ca7",
   "metadata": {},
   "outputs": [],
   "source": [
    "slicing of lists :"
   ]
  },
  {
   "cell_type": "code",
   "execution_count": null,
   "id": "328a55fc",
   "metadata": {},
   "outputs": [],
   "source": []
  },
  {
   "cell_type": "code",
   "execution_count": 20,
   "id": "9ea023a1",
   "metadata": {},
   "outputs": [],
   "source": [
    "students =['suvedita','farheen','kumar','imran','surya','hameed']"
   ]
  },
  {
   "cell_type": "code",
   "execution_count": 21,
   "id": "403169a9",
   "metadata": {},
   "outputs": [
    {
     "name": "stdout",
     "output_type": "stream",
     "text": [
      "['suvedita', 'farheen', 'kumar', 'imran', 'surya', 'hameed']\n"
     ]
    }
   ],
   "source": [
    "print(students)"
   ]
  },
  {
   "cell_type": "code",
   "execution_count": null,
   "id": "b65efdcd",
   "metadata": {},
   "outputs": [],
   "source": []
  },
  {
   "cell_type": "code",
   "execution_count": null,
   "id": "33b6811b",
   "metadata": {},
   "outputs": [],
   "source": [
    "General syntax of slicing :"
   ]
  },
  {
   "cell_type": "code",
   "execution_count": null,
   "id": "8ac73f95",
   "metadata": {},
   "outputs": [],
   "source": [
    "startvalue:stopvalue:stepcount =====>indexing"
   ]
  },
  {
   "cell_type": "code",
   "execution_count": null,
   "id": "d5e7d2fe",
   "metadata": {},
   "outputs": [],
   "source": [
    "Note : last value or stop value is always exclusive,that means it will be included in part of the slice.    "
   ]
  },
  {
   "cell_type": "code",
   "execution_count": null,
   "id": "607080bb",
   "metadata": {},
   "outputs": [],
   "source": [
    "Note2 : increment the index by 1 to include the last value or stop value "
   ]
  },
  {
   "cell_type": "code",
   "execution_count": null,
   "id": "3941a7b6",
   "metadata": {},
   "outputs": [],
   "source": [
    "# req : i want to include suvedita and farheen in the same slice "
   ]
  },
  {
   "cell_type": "code",
   "execution_count": 22,
   "id": "49f0de8f",
   "metadata": {},
   "outputs": [
    {
     "name": "stdout",
     "output_type": "stream",
     "text": [
      "['suvedita']\n"
     ]
    }
   ],
   "source": [
    "print(students[0:1])"
   ]
  },
  {
   "cell_type": "code",
   "execution_count": 23,
   "id": "061d1f3c",
   "metadata": {},
   "outputs": [
    {
     "name": "stdout",
     "output_type": "stream",
     "text": [
      "['suvedita', 'farheen']\n"
     ]
    }
   ],
   "source": [
    "print(students[0:2])"
   ]
  },
  {
   "cell_type": "code",
   "execution_count": null,
   "id": "260984e5",
   "metadata": {},
   "outputs": [],
   "source": []
  },
  {
   "cell_type": "code",
   "execution_count": null,
   "id": "64f1334a",
   "metadata": {},
   "outputs": [],
   "source": [
    "# req : i want to include kumar and imran in the same the slice."
   ]
  },
  {
   "cell_type": "code",
   "execution_count": 24,
   "id": "a0f2f26c",
   "metadata": {},
   "outputs": [
    {
     "name": "stdout",
     "output_type": "stream",
     "text": [
      "['suvedita', 'farheen', 'kumar', 'imran', 'surya', 'hameed']\n"
     ]
    }
   ],
   "source": [
    "print(students)"
   ]
  },
  {
   "cell_type": "code",
   "execution_count": 25,
   "id": "d0333356",
   "metadata": {},
   "outputs": [
    {
     "name": "stdout",
     "output_type": "stream",
     "text": [
      "['kumar', 'imran']\n"
     ]
    }
   ],
   "source": [
    "print(students[2:4])"
   ]
  },
  {
   "cell_type": "code",
   "execution_count": null,
   "id": "67337d99",
   "metadata": {},
   "outputs": [],
   "source": []
  },
  {
   "cell_type": "code",
   "execution_count": null,
   "id": "4713a371",
   "metadata": {},
   "outputs": [],
   "source": [
    "# req : i want to include surya and hameed in the same the slice."
   ]
  },
  {
   "cell_type": "code",
   "execution_count": 26,
   "id": "5fcd95c4",
   "metadata": {},
   "outputs": [
    {
     "name": "stdout",
     "output_type": "stream",
     "text": [
      "['surya', 'hameed']\n"
     ]
    }
   ],
   "source": [
    "print(students[4:6])"
   ]
  },
  {
   "cell_type": "code",
   "execution_count": 28,
   "id": "bf04834b",
   "metadata": {},
   "outputs": [
    {
     "name": "stdout",
     "output_type": "stream",
     "text": [
      "['suvedita', 'kumar', 'surya']\n"
     ]
    }
   ],
   "source": [
    "print(students[0:6:2])"
   ]
  },
  {
   "cell_type": "code",
   "execution_count": 29,
   "id": "9989c691",
   "metadata": {},
   "outputs": [
    {
     "name": "stdout",
     "output_type": "stream",
     "text": [
      "['suvedita', 'farheen', 'kumar', 'imran', 'surya', 'hameed']\n"
     ]
    }
   ],
   "source": [
    "print(students)"
   ]
  },
  {
   "cell_type": "code",
   "execution_count": null,
   "id": "b631a2f6",
   "metadata": {},
   "outputs": [],
   "source": []
  },
  {
   "cell_type": "code",
   "execution_count": null,
   "id": "54da2e0a",
   "metadata": {},
   "outputs": [],
   "source": []
  },
  {
   "cell_type": "code",
   "execution_count": null,
   "id": "5a4ee359",
   "metadata": {},
   "outputs": [],
   "source": []
  }
 ],
 "metadata": {
  "kernelspec": {
   "display_name": "Python 3",
   "language": "python",
   "name": "python3"
  },
  "language_info": {
   "codemirror_mode": {
    "name": "ipython",
    "version": 3
   },
   "file_extension": ".py",
   "mimetype": "text/x-python",
   "name": "python",
   "nbconvert_exporter": "python",
   "pygments_lexer": "ipython3",
   "version": "3.8.8"
  }
 },
 "nbformat": 4,
 "nbformat_minor": 5
}

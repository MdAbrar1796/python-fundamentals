{
 "cells": [
  {
   "cell_type": "code",
   "execution_count": null,
   "id": "fe104bf4",
   "metadata": {},
   "outputs": [],
   "source": [
    "introduction to conditional statements :"
   ]
  },
  {
   "cell_type": "code",
   "execution_count": null,
   "id": "4bb74a5f",
   "metadata": {},
   "outputs": [],
   "source": [
    "By occurance of certain condition the output will be decided."
   ]
  },
  {
   "cell_type": "code",
   "execution_count": null,
   "id": "3e95fb02",
   "metadata": {},
   "outputs": [],
   "source": []
  },
  {
   "cell_type": "code",
   "execution_count": 1,
   "id": "221c3816",
   "metadata": {},
   "outputs": [],
   "source": [
    "cars = ['maruthi','kia','bmw','audi','benz']"
   ]
  },
  {
   "cell_type": "code",
   "execution_count": 2,
   "id": "8fada3f3",
   "metadata": {},
   "outputs": [
    {
     "name": "stdout",
     "output_type": "stream",
     "text": [
      "['maruthi', 'kia', 'bmw', 'audi', 'benz']\n"
     ]
    }
   ],
   "source": [
    "print(cars)"
   ]
  },
  {
   "cell_type": "code",
   "execution_count": null,
   "id": "1fcd0685",
   "metadata": {},
   "outputs": [],
   "source": []
  },
  {
   "cell_type": "code",
   "execution_count": null,
   "id": "1299baca",
   "metadata": {},
   "outputs": [],
   "source": [
    "# req : i want to print all the cars in the title case, except i want bmw in capitals how to do?"
   ]
  },
  {
   "cell_type": "code",
   "execution_count": null,
   "id": "fcc4b94a",
   "metadata": {},
   "outputs": [],
   "source": []
  },
  {
   "cell_type": "code",
   "execution_count": null,
   "id": "7dad6701",
   "metadata": {},
   "outputs": [],
   "source": [
    "for tempvar in mainvar:\n",
    "    print(tempvar)"
   ]
  },
  {
   "cell_type": "code",
   "execution_count": 3,
   "id": "0a44d30b",
   "metadata": {},
   "outputs": [
    {
     "name": "stdout",
     "output_type": "stream",
     "text": [
      "Maruthi\n",
      "Kia\n",
      "BMW\n",
      "Audi\n",
      "Benz\n"
     ]
    }
   ],
   "source": [
    "for x in cars:\n",
    "    if x == 'bmw':\n",
    "        print(x.upper())\n",
    "    else:\n",
    "        print(x.title())"
   ]
  },
  {
   "cell_type": "code",
   "execution_count": null,
   "id": "216a95bf",
   "metadata": {},
   "outputs": [],
   "source": []
  },
  {
   "cell_type": "code",
   "execution_count": null,
   "id": "600447cc",
   "metadata": {},
   "outputs": [],
   "source": [
    "accepting the user input :"
   ]
  },
  {
   "cell_type": "code",
   "execution_count": null,
   "id": "8a898bf3",
   "metadata": {},
   "outputs": [],
   "source": [
    "input ----> is the keyword that we will be using."
   ]
  },
  {
   "cell_type": "code",
   "execution_count": 4,
   "id": "a4677ce9",
   "metadata": {},
   "outputs": [
    {
     "name": "stdout",
     "output_type": "stream",
     "text": [
      "Tell me something and i will repeat it back for you hi\n",
      " hi\n"
     ]
    }
   ],
   "source": [
    "message = input(\"Tell me something and i will repeat it back for you\")\n",
    "\n",
    "print(message)"
   ]
  },
  {
   "cell_type": "code",
   "execution_count": null,
   "id": "477117f2",
   "metadata": {},
   "outputs": [],
   "source": [
    "# req : greeting the user."
   ]
  },
  {
   "cell_type": "code",
   "execution_count": 5,
   "id": "18eb680f",
   "metadata": {},
   "outputs": [
    {
     "name": "stdout",
     "output_type": "stream",
     "text": [
      "please enter your fullname.sachin jadhav\n",
      "Hello welcome to Amazon website, sachin jadhav\n"
     ]
    }
   ],
   "source": [
    "prompt = input(\"please enter your fullname.\")\n",
    "\n",
    "print(f\"Hello welcome to Amazon website, {prompt}\")"
   ]
  },
  {
   "cell_type": "code",
   "execution_count": null,
   "id": "847aace6",
   "metadata": {},
   "outputs": [],
   "source": []
  },
  {
   "cell_type": "code",
   "execution_count": null,
   "id": "b40b2691",
   "metadata": {},
   "outputs": [],
   "source": [
    "Note : by default input methods takes the next as string"
   ]
  },
  {
   "cell_type": "code",
   "execution_count": null,
   "id": "e13394c0",
   "metadata": {},
   "outputs": [],
   "source": []
  },
  {
   "cell_type": "code",
   "execution_count": 6,
   "id": "875b326e",
   "metadata": {},
   "outputs": [
    {
     "name": "stdout",
     "output_type": "stream",
     "text": [
      "please enter your age26\n",
      "26\n"
     ]
    }
   ],
   "source": [
    "age = input(\"please enter your age\")\n",
    "\n",
    "print(age)"
   ]
  },
  {
   "cell_type": "code",
   "execution_count": null,
   "id": "f7e3496a",
   "metadata": {},
   "outputs": [],
   "source": [
    "# req : to validate the age"
   ]
  },
  {
   "cell_type": "code",
   "execution_count": 7,
   "id": "4a5ae311",
   "metadata": {},
   "outputs": [
    {
     "ename": "TypeError",
     "evalue": "'>' not supported between instances of 'str' and 'int'",
     "output_type": "error",
     "traceback": [
      "\u001b[1;31m---------------------------------------------------------------------------\u001b[0m",
      "\u001b[1;31mTypeError\u001b[0m                                 Traceback (most recent call last)",
      "\u001b[1;32m<ipython-input-7-f249b2a2421b>\u001b[0m in \u001b[0;36m<module>\u001b[1;34m\u001b[0m\n\u001b[1;32m----> 1\u001b[1;33m \u001b[0mage\u001b[0m \u001b[1;33m>\u001b[0m \u001b[1;36m18\u001b[0m\u001b[1;33m\u001b[0m\u001b[1;33m\u001b[0m\u001b[0m\n\u001b[0m",
      "\u001b[1;31mTypeError\u001b[0m: '>' not supported between instances of 'str' and 'int'"
     ]
    }
   ],
   "source": [
    "age > 18"
   ]
  },
  {
   "cell_type": "code",
   "execution_count": 8,
   "id": "913ded3e",
   "metadata": {},
   "outputs": [
    {
     "data": {
      "text/plain": [
       "str"
      ]
     },
     "execution_count": 8,
     "metadata": {},
     "output_type": "execute_result"
    }
   ],
   "source": [
    "type(age)"
   ]
  },
  {
   "cell_type": "code",
   "execution_count": null,
   "id": "ca71a1ef",
   "metadata": {},
   "outputs": [],
   "source": []
  },
  {
   "cell_type": "code",
   "execution_count": null,
   "id": "be05f27d",
   "metadata": {},
   "outputs": [],
   "source": [
    "Typecasting of the datatypes :\n",
    "    \n",
    "Converting the data from one type to another type :"
   ]
  },
  {
   "cell_type": "code",
   "execution_count": null,
   "id": "33d0db8b",
   "metadata": {},
   "outputs": [],
   "source": []
  },
  {
   "cell_type": "code",
   "execution_count": 9,
   "id": "b77573fa",
   "metadata": {},
   "outputs": [
    {
     "name": "stdout",
     "output_type": "stream",
     "text": [
      "please enter your age26\n"
     ]
    }
   ],
   "source": [
    "age = input(\"please enter your age\")\n",
    "age = int(age)"
   ]
  },
  {
   "cell_type": "code",
   "execution_count": 10,
   "id": "faaf5be1",
   "metadata": {},
   "outputs": [
    {
     "data": {
      "text/plain": [
       "True"
      ]
     },
     "execution_count": 10,
     "metadata": {},
     "output_type": "execute_result"
    }
   ],
   "source": [
    "age > 18"
   ]
  },
  {
   "cell_type": "code",
   "execution_count": 11,
   "id": "50f3c982",
   "metadata": {},
   "outputs": [
    {
     "data": {
      "text/plain": [
       "int"
      ]
     },
     "execution_count": 11,
     "metadata": {},
     "output_type": "execute_result"
    }
   ],
   "source": [
    "type(age)"
   ]
  },
  {
   "cell_type": "code",
   "execution_count": null,
   "id": "ae1d7fa1",
   "metadata": {},
   "outputs": [],
   "source": [
    "# Building a simple voting application :"
   ]
  },
  {
   "cell_type": "code",
   "execution_count": null,
   "id": "78f8ea8f",
   "metadata": {},
   "outputs": [],
   "source": []
  },
  {
   "cell_type": "code",
   "execution_count": 13,
   "id": "cd22d02d",
   "metadata": {},
   "outputs": [
    {
     "name": "stdout",
     "output_type": "stream",
     "text": [
      "please enter your age: 26\n",
      "you are eligible to vote\n"
     ]
    }
   ],
   "source": [
    "age = input(\"please enter your age: \")\n",
    "age = int(age)\n",
    "\n",
    "if age >= 18:\n",
    "    print(\"you are eligible to vote\")\n",
    "else:\n",
    "    print(\"you are not eligible to vote\")"
   ]
  },
  {
   "cell_type": "code",
   "execution_count": null,
   "id": "6d478595",
   "metadata": {},
   "outputs": [],
   "source": []
  },
  {
   "cell_type": "code",
   "execution_count": null,
   "id": "a961b7dc",
   "metadata": {},
   "outputs": [],
   "source": []
  },
  {
   "cell_type": "code",
   "execution_count": null,
   "id": "dcec205e",
   "metadata": {},
   "outputs": [],
   "source": []
  },
  {
   "cell_type": "code",
   "execution_count": null,
   "id": "c5d1bf39",
   "metadata": {},
   "outputs": [],
   "source": []
  }
 ],
 "metadata": {
  "kernelspec": {
   "display_name": "Python 3",
   "language": "python",
   "name": "python3"
  },
  "language_info": {
   "codemirror_mode": {
    "name": "ipython",
    "version": 3
   },
   "file_extension": ".py",
   "mimetype": "text/x-python",
   "name": "python",
   "nbconvert_exporter": "python",
   "pygments_lexer": "ipython3",
   "version": "3.8.8"
  }
 },
 "nbformat": 4,
 "nbformat_minor": 5
}
